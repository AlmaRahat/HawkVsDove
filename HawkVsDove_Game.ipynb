{
  "nbformat": 4,
  "nbformat_minor": 0,
  "metadata": {
    "kernelspec": {
      "display_name": "Python 3",
      "language": "python",
      "name": "python3"
    },
    "language_info": {
      "codemirror_mode": {
        "name": "ipython",
        "version": 3
      },
      "file_extension": ".py",
      "mimetype": "text/x-python",
      "name": "python",
      "nbconvert_exporter": "python",
      "pygments_lexer": "ipython3",
      "version": "3.6.6"
    },
    "colab": {
      "name": "HawkVsDove_Game.ipynb",
      "provenance": [],
      "collapsed_sections": []
    }
  },
  "cells": [
    {
      "cell_type": "markdown",
      "metadata": {
        "id": "q_TCF9A7Snm3",
        "colab_type": "text"
      },
      "source": [
        "# Playing the Hawk vs. Dove Game\n",
        "\n",
        "Hawk vs. Dove is a Strategy Game in which two agents compete for resources by choosing to either act as a Hawk or a Dove. Hawks symbolise a naturally agressive strategy, whilst Doves represent a more passive approach. \n",
        "\n",
        "The game involves two players who come across a piece of food and must choose a strategy (Hawk or Dove) in order to obtain the food. The chosen strategy, and the strategy of their opponent, determines the payoff that each challenger will obtain from the interaction. Over successive generations and contests, the plyers will amass resources and the winner will be the individual who obtains the most reward.\n",
        "\n",
        "Given the two possible choices of action, Hawk or Dove, we can observe the following rules:\n",
        "\n",
        "\n",
        "* If Player 1 chooses Hawk and Player 2 chooses Hawk, then both Hawks enter into a fight. The winner gets the food, loser gets injured. \n",
        " * Both Player 1 and Player 2 both get a reward of $\\frac{V-I}{2}$ due to the resulting fight.\n",
        " \n",
        " \n",
        "* If Player 1 chooses Dove and Player 2 chooses Dove, then both Doves will put on a bluffing display until one of them leaves, only one player will win the food. \n",
        " * Both Player 1 and Player 2 will therefore get a reward of $\\frac{V}{2}-C$ on average.\n",
        " \n",
        " \n",
        "* If one player chooses Hawk and the other chooses Dove, then a fight ensues. The Dove will immediately flee to incur no injury, and the Hawk gets all of the food. \n",
        " * Hawk will get a reward of $V$ and the Dove gets 0.\n",
        " \n",
        "\n",
        "These situations be described with the following _payoff matrix_:\n",
        "\n",
        "|$\\frac{\\displaystyle\\text{Opponent ➤}}{▼ \\displaystyle \\text{ Player}}$ | Hawk | Dove |\n",
        "|---:|:---:|:--:|\n",
        "| **Hawk** | $$\\frac{(V-I)}{2}$$ | $$V$$ |\n",
        "| **Dove** | $$0$$ | $$ \\frac{V}{2}-C$$ |\n",
        "\n",
        "In the following Jupyter Notebook you can play a game of Hawk Vs. Dove with another player as follows:\n",
        "\n",
        "* Run the next cell and it will begin a game with a fixed number of rounds. \n",
        "* Each of the two players will take it in turn to select either Hawk or Dove\n",
        "* Type your action choice into the text field provided, entering the character **H** for Hawk or __D__ for Dove and pressing the Enter key.\n",
        " * The input method will hide your input, but remember to keep your choice secret from the other player! \n",
        " * If you enter an incorrect character then it will ask you to try again."
      ]
    },
    {
      "cell_type": "code",
      "metadata": {
        "id": "JQXMGhTISnm6",
        "colab_type": "code",
        "colab": {}
      },
      "source": [
        "import numpy as np\n",
        "import getpass"
      ],
      "execution_count": 0,
      "outputs": []
    },
    {
      "cell_type": "code",
      "metadata": {
        "id": "9XWY1Iq-Snm_",
        "colab_type": "code",
        "colab": {}
      },
      "source": [
        "class hawk_dove_game:\n",
        "    \n",
        "    def __init__(self, reward, injury_cost, interact_cost):\n",
        "        self.payoff = np.array([[(reward - injury_cost) / 2, reward],\n",
        "                                [0, reward / 2 - interact_cost]])\n",
        "        self.strategy_keys = ['H', 'D']\n",
        "        self.strategy_names = ['Hawk', 'Dove']\n",
        "\n",
        "        \n",
        "    def evaluate_payoff(self, choices):\n",
        "        return [self.payoff[choices[0], choices[1]], self.payoff[choices[1], choices[0]]]\n",
        "    \n",
        "    \n",
        "    def print_round(self, player_choice, rewards):\n",
        "        print('\\n')\n",
        "        print('Player 1 chose {0}, Player 2 chose {1}'.format(self.strategy_names[player_choice[0]], self.strategy_names[player_choice[1]]))\n",
        "        print('Player 1 obtained a reward of {0}'.format(rewards[0]))\n",
        "        print('Player 2 obtained a reward of {0}'.format(rewards[1]))\n",
        "        print('\\n')\n",
        "             \n",
        "        \n",
        "    def play(self, n_rounds=10):\n",
        "        player_scores = np.zeros(2)\n",
        "        player_choice = [None] * 2\n",
        "        input_prompt = 'Player {0}, enter choice of strategy (H for Hawk, D for dove, Q to quit game): '\n",
        "        \n",
        "        for i_round in range(n_rounds):\n",
        "            print('{0:s}\\nRound: {1} of {2}\\n{0:s}\\n'.format('-' * 16, i_round, n_rounds - 1))\n",
        "            \n",
        "            # Players choose their strategy\n",
        "            for i_player in range(len(player_scores)):\n",
        "                player_key = [] #getpass.getpass(input_prompt.format(i_player + 1)).upper()\n",
        "                \n",
        "                while player_key not in self.strategy_keys:\n",
        "                    player_key = getpass.getpass(input_prompt.format(i_player + 1)).upper()\n",
        "                    if player_key.upper() == 'Q': \n",
        "                        print('Game quit')\n",
        "                        return\n",
        "                \n",
        "                player_choice[i_player] = 0 if player_key == 'H' else 1\n",
        "            \n",
        "            # Update scores\n",
        "            rewards = self.evaluate_payoff(player_choice)\n",
        "            self.print_round(player_choice, rewards)\n",
        "            player_scores += rewards\n",
        "            \n",
        "        # Print out winner and total resources collected\n",
        "        print('='*20)\n",
        "        if player_scores[0] == player_scores[1]:\n",
        "            print('There was a draw. Player 1 has a score of {0}, Player 2 has a score of {1}.'.format(player_scores[0], player_scores[1]))\n",
        "        else:\n",
        "            winner = np.argmax(player_scores)\n",
        "            print('The winner of the competition was Player {0} with a score of {1}.'.format(winner + 1, player_scores[winner]))\n",
        "            print('The loser of the competition was Player {0} with a score of {1}.'.format(1 - winner + 1, player_scores[1 - winner]))"
      ],
      "execution_count": 0,
      "outputs": []
    },
    {
      "cell_type": "markdown",
      "metadata": {
        "id": "KgOolohJSnnB",
        "colab_type": "text"
      },
      "source": [
        "## Create an instance of our Hawk vs. Dove Game"
      ]
    },
    {
      "cell_type": "code",
      "metadata": {
        "id": "iX2bwlkHSnnF",
        "colab_type": "code",
        "colab": {}
      },
      "source": [
        "game = hawk_dove_game(50, 100, 10)"
      ],
      "execution_count": 0,
      "outputs": []
    },
    {
      "cell_type": "markdown",
      "metadata": {
        "id": "Z9zSY9coSnnL",
        "colab_type": "text"
      },
      "source": [
        "## Call our _play()_ method to begin a new game\n",
        "Run the below cell to play a game of Hawk Vs. Dove. You can re-run the cell to play another game. Be sure to "
      ]
    },
    {
      "cell_type": "code",
      "metadata": {
        "id": "B1gv8KbvSnnN",
        "colab_type": "code",
        "outputId": "b419b1eb-7b19-43cc-8095-038b7d456786",
        "colab": {
          "base_uri": "https://localhost:8080/",
          "height": 1000
        }
      },
      "source": [
        "game.play()"
      ],
      "execution_count": 0,
      "outputs": [
        {
          "output_type": "stream",
          "text": [
            "----------------\n",
            "Round: 0 of 9\n",
            "----------------\n",
            "\n",
            "Player 1, enter choice of strategy (H for Hawk, D for dove, Q to quit game): ··········\n",
            "Player 2, enter choice of strategy (H for Hawk, D for dove, Q to quit game): ··········\n",
            "\n",
            "\n",
            "Player 1 chose Hawk, Player 2 chose Hawk\n",
            "Player 1 obtained a reward of -25.0\n",
            "Player 2 obtained a reward of -25.0\n",
            "\n",
            "\n",
            "----------------\n",
            "Round: 1 of 9\n",
            "----------------\n",
            "\n",
            "Player 1, enter choice of strategy (H for Hawk, D for dove, Q to quit game): ··········\n",
            "Player 2, enter choice of strategy (H for Hawk, D for dove, Q to quit game): ··········\n",
            "\n",
            "\n",
            "Player 1 chose Hawk, Player 2 chose Hawk\n",
            "Player 1 obtained a reward of -25.0\n",
            "Player 2 obtained a reward of -25.0\n",
            "\n",
            "\n",
            "----------------\n",
            "Round: 2 of 9\n",
            "----------------\n",
            "\n",
            "Player 1, enter choice of strategy (H for Hawk, D for dove, Q to quit game): ··········\n",
            "Player 2, enter choice of strategy (H for Hawk, D for dove, Q to quit game): ··········\n",
            "\n",
            "\n",
            "Player 1 chose Hawk, Player 2 chose Hawk\n",
            "Player 1 obtained a reward of -25.0\n",
            "Player 2 obtained a reward of -25.0\n",
            "\n",
            "\n",
            "----------------\n",
            "Round: 3 of 9\n",
            "----------------\n",
            "\n",
            "Player 1, enter choice of strategy (H for Hawk, D for dove, Q to quit game): ··········\n",
            "Player 2, enter choice of strategy (H for Hawk, D for dove, Q to quit game): ··········\n",
            "\n",
            "\n",
            "Player 1 chose Hawk, Player 2 chose Hawk\n",
            "Player 1 obtained a reward of -25.0\n",
            "Player 2 obtained a reward of -25.0\n",
            "\n",
            "\n",
            "----------------\n",
            "Round: 4 of 9\n",
            "----------------\n",
            "\n",
            "Player 1, enter choice of strategy (H for Hawk, D for dove, Q to quit game): ··········\n",
            "Player 2, enter choice of strategy (H for Hawk, D for dove, Q to quit game): ··········\n",
            "\n",
            "\n",
            "Player 1 chose Hawk, Player 2 chose Hawk\n",
            "Player 1 obtained a reward of -25.0\n",
            "Player 2 obtained a reward of -25.0\n",
            "\n",
            "\n",
            "----------------\n",
            "Round: 5 of 9\n",
            "----------------\n",
            "\n",
            "Player 1, enter choice of strategy (H for Hawk, D for dove, Q to quit game): ··········\n",
            "Player 2, enter choice of strategy (H for Hawk, D for dove, Q to quit game): ··········\n",
            "Player 2, enter choice of strategy (H for Hawk, D for dove, Q to quit game): ··········\n",
            "\n",
            "\n",
            "Player 1 chose Hawk, Player 2 chose Hawk\n",
            "Player 1 obtained a reward of -25.0\n",
            "Player 2 obtained a reward of -25.0\n",
            "\n",
            "\n",
            "----------------\n",
            "Round: 6 of 9\n",
            "----------------\n",
            "\n",
            "Player 1, enter choice of strategy (H for Hawk, D for dove, Q to quit game): ··········\n",
            "Player 2, enter choice of strategy (H for Hawk, D for dove, Q to quit game): ··········\n",
            "\n",
            "\n",
            "Player 1 chose Hawk, Player 2 chose Hawk\n",
            "Player 1 obtained a reward of -25.0\n",
            "Player 2 obtained a reward of -25.0\n",
            "\n",
            "\n",
            "----------------\n",
            "Round: 7 of 9\n",
            "----------------\n",
            "\n",
            "Player 1, enter choice of strategy (H for Hawk, D for dove, Q to quit game): ··········\n",
            "Player 2, enter choice of strategy (H for Hawk, D for dove, Q to quit game): ··········\n",
            "\n",
            "\n",
            "Player 1 chose Hawk, Player 2 chose Hawk\n",
            "Player 1 obtained a reward of -25.0\n",
            "Player 2 obtained a reward of -25.0\n",
            "\n",
            "\n",
            "----------------\n",
            "Round: 8 of 9\n",
            "----------------\n",
            "\n",
            "Player 1, enter choice of strategy (H for Hawk, D for dove, Q to quit game): ··········\n",
            "Player 2, enter choice of strategy (H for Hawk, D for dove, Q to quit game): ··········\n",
            "\n",
            "\n",
            "Player 1 chose Hawk, Player 2 chose Hawk\n",
            "Player 1 obtained a reward of -25.0\n",
            "Player 2 obtained a reward of -25.0\n",
            "\n",
            "\n",
            "----------------\n",
            "Round: 9 of 9\n",
            "----------------\n",
            "\n",
            "Player 1, enter choice of strategy (H for Hawk, D for dove, Q to quit game): ··········\n",
            "Player 2, enter choice of strategy (H for Hawk, D for dove, Q to quit game): ··········\n",
            "\n",
            "\n",
            "Player 1 chose Hawk, Player 2 chose Hawk\n",
            "Player 1 obtained a reward of -25.0\n",
            "Player 2 obtained a reward of -25.0\n",
            "\n",
            "\n",
            "====================\n",
            "There was a draw. Player 1 has a score of -250.0, Player 2 has a score of -250.0.\n"
          ],
          "name": "stdout"
        }
      ]
    },
    {
      "cell_type": "code",
      "metadata": {
        "id": "uAAEUJeDSnnT",
        "colab_type": "code",
        "colab": {}
      },
      "source": [
        ""
      ],
      "execution_count": 0,
      "outputs": []
    }
  ]
}